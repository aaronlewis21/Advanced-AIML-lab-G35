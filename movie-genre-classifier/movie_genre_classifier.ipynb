{
 "cells": [
  {
   "cell_type": "code",
   "execution_count": 7,
   "id": "d11c40ef-4d6b-4aed-a161-892883a522fc",
   "metadata": {},
   "outputs": [
    {
     "name": "stderr",
     "output_type": "stream",
     "text": [
      "C:\\Users\\aaron\\AppData\\Local\\Packages\\PythonSoftwareFoundation.Python.3.11_qbz5n2kfra8p0\\LocalCache\\local-packages\\Python311\\site-packages\\sklearn\\linear_model\\_logistic.py:469: ConvergenceWarning: lbfgs failed to converge (status=1):\n",
      "STOP: TOTAL NO. of ITERATIONS REACHED LIMIT.\n",
      "\n",
      "Increase the number of iterations (max_iter) or scale the data as shown in:\n",
      "    https://scikit-learn.org/stable/modules/preprocessing.html\n",
      "Please also refer to the documentation for alternative solver options:\n",
      "    https://scikit-learn.org/stable/modules/linear_model.html#logistic-regression\n",
      "  n_iter_i = _check_optimize_result(\n"
     ]
    },
    {
     "name": "stdout",
     "output_type": "stream",
     "text": [
      "Selected Plot Summary:\n",
      " Two completely different families, Ciorba and Ghica, have a single thing in common, which, unfortunately, they can't avoid: the love between their kids. The two children from the families, Irina and Horatiu, fall in love and they decide to take the big step: marriage. Although the interests of the two families have no common point, the young lovers are convinced that this will not be an obstacle to happiness. A large family: _\"Ai nostri\" (2017)_ (qv)\n",
      "\n"
     ]
    }
   ],
   "source": [
    "import pandas as pd\n",
    "from sklearn.feature_extraction.text import TfidfVectorizer\n",
    "from sklearn.linear_model import LogisticRegression\n",
    "import random\n",
    "train_data = pd.read_csv(r\"C:\\Users\\aaron\\OneDrive\\Desktop\\2nd year padhai\\DV study\\DIP code\\movei\\train_data.txt\", sep=':::', names=['Title', 'Genre', 'Description'], engine='python')\n",
    "tfidf_vectorizer = TfidfVectorizer(max_features=5000)\n",
    "X_train_tfidf = tfidf_vectorizer.fit_transform(train_data[\"Description\"])\n",
    "y_train = train_data[\"Genre\"]\n",
    "model = LogisticRegression()\n",
    "model.fit(X_train_tfidf, y_train)\n",
    "test_data = pd.read_csv(r\"C:\\Users\\aaron\\OneDrive\\Desktop\\2nd year padhai\\DV study\\DIP code\\movei\\test_data.txt\", sep=':::', names=['Title', 'Description'], engine='python')\n",
    "random_index = random.randint(0, len(test_data) - 1)\n",
    "selected_plot_summary = test_data.loc[random_index, \"Description\"]\n",
    "print(f\"Selected Plot Summary:\\n{selected_plot_summary}\\n\")\n",
    "X_selected_tfidf = tfidf_vectorizer.transform([selected_plot_summary])\n",
    "predicted_genre = model.predict(X_selected_tfidf)[0]"
   ]
  },
  {
   "cell_type": "code",
   "execution_count": 9,
   "id": "915150ff-5def-48f8-b187-03428e348add",
   "metadata": {},
   "outputs": [
    {
     "name": "stderr",
     "output_type": "stream",
     "text": [
      "C:\\Users\\aaron\\AppData\\Local\\Packages\\PythonSoftwareFoundation.Python.3.11_qbz5n2kfra8p0\\LocalCache\\local-packages\\Python311\\site-packages\\sklearn\\linear_model\\_logistic.py:469: ConvergenceWarning: lbfgs failed to converge (status=1):\n",
      "STOP: TOTAL NO. of ITERATIONS REACHED LIMIT.\n",
      "\n",
      "Increase the number of iterations (max_iter) or scale the data as shown in:\n",
      "    https://scikit-learn.org/stable/modules/preprocessing.html\n",
      "Please also refer to the documentation for alternative solver options:\n",
      "    https://scikit-learn.org/stable/modules/linear_model.html#logistic-regression\n",
      "  n_iter_i = _check_optimize_result(\n"
     ]
    },
    {
     "name": "stdout",
     "output_type": "stream",
     "text": [
      "Selected Plot Summary:\n",
      " A darkly satiric horror film that takes an acid look at the current state of the news media while a mysterious plague is bringing the dead back to life. A small group of news reporters and their military escort set out to tell the truth about what's happening in the world, despite the government's efforts to take control of the media.\n",
      "\n",
      "Predicted Genre:  horror \n"
     ]
    }
   ],
   "source": [
    "import pandas as pd\n",
    "from sklearn.feature_extraction.text import TfidfVectorizer\n",
    "from sklearn.linear_model import LogisticRegression\n",
    "import random\n",
    "train_data = pd.read_csv(r\"C:\\Users\\aaron\\OneDrive\\Desktop\\2nd year padhai\\DV study\\DIP code\\movei\\train_data.txt\", sep=':::', names=['Title', 'Genre', 'Description'], engine='python')\n",
    "tfidf_vectorizer = TfidfVectorizer(max_features=5000)\n",
    "X_train_tfidf = tfidf_vectorizer.fit_transform(train_data[\"Description\"])\n",
    "y_train = train_data[\"Genre\"]\n",
    "model = LogisticRegression()\n",
    "model.fit(X_train_tfidf, y_train)\n",
    "test_data = pd.read_csv(r\"C:\\Users\\aaron\\OneDrive\\Desktop\\2nd year padhai\\DV study\\DIP code\\movei\\test_data.txt\", sep=':::', names=['Title', 'Description'], engine='python')\n",
    "random_index = random.randint(0, len(test_data) - 1)\n",
    "selected_plot_summary = test_data.loc[random_index, \"Description\"]\n",
    "print(f\"Selected Plot Summary:\\n{selected_plot_summary}\\n\")\n",
    "X_selected_tfidf = tfidf_vectorizer.transform([selected_plot_summary])\n",
    "predicted_genre = model.predict(X_selected_tfidf)[0]\n",
    "print(f\"Predicted Genre: {predicted_genre}\")"
   ]
  },
  {
   "cell_type": "code",
   "execution_count": null,
   "id": "cc4fa957-7fef-4a4c-af28-c7ef443e9a5e",
   "metadata": {},
   "outputs": [],
   "source": []
  }
 ],
 "metadata": {
  "kernelspec": {
   "display_name": "Python 3 (ipykernel)",
   "language": "python",
   "name": "python3"
  },
  "language_info": {
   "codemirror_mode": {
    "name": "ipython",
    "version": 3
   },
   "file_extension": ".py",
   "mimetype": "text/x-python",
   "name": "python",
   "nbconvert_exporter": "python",
   "pygments_lexer": "ipython3",
   "version": "3.11.9"
  }
 },
 "nbformat": 4,
 "nbformat_minor": 5
}
